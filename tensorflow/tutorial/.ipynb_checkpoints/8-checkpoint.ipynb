{
 "cells": [
  {
   "cell_type": "markdown",
   "metadata": {},
   "source": [
    "# Initialization Of Tensorboard and Removal of Old Logs\n",
    "Kills all the tensorboard instances running on the system and then removes the log directory.\n",
    "Starts a new instance of tensorboard with the default log directory\n",
    "\n",
    "# Some Minor Points\n",
    "    * Reset Default Tensorflow graph so that your cells don't clash before every computation "
   ]
  },
  {
   "cell_type": "code",
   "execution_count": 11,
   "metadata": {},
   "outputs": [],
   "source": [
    "default_tensorboard_logdir = \"default_tensorboard_logs\""
   ]
  },
  {
   "cell_type": "code",
   "execution_count": 12,
   "metadata": {},
   "outputs": [
    {
     "name": "stdout",
     "output_type": "stream",
     "text": [
      "SUCCESS: The process \"tensorboard.exe\" with PID 12484 has been terminated.\n"
     ]
    },
    {
     "data": {
      "text/plain": [
       "0"
      ]
     },
     "execution_count": 12,
     "metadata": {},
     "output_type": "execute_result"
    }
   ],
   "source": [
    "import os\n",
    "!taskkill /IM tensorboard.exe /F\n",
    "!rm {default_tensorboard_logdir} -r\n",
    "os.system(\"start tensorboard --logdir=./\"+default_tensorboard_logdir+\" --host localhost --port 8088 &\")"
   ]
  },
  {
   "cell_type": "markdown",
   "metadata": {},
   "source": [
    "# Start Your Notebook Here"
   ]
  },
  {
   "cell_type": "markdown",
   "metadata": {},
   "source": [
    "#### Example Snippet to get you Started - Running Average\n",
    "~~~~\n",
    "import tensorflow as tf \n",
    "import numpy as np \n",
    "\n",
    "\n",
    "\n",
    "tf.reset_default_graph()\n",
    "\n",
    "raw_data = np.random.normal(10, 1, 100)\n",
    "const_val = np.mean(raw_data, dtype=np.float32)\n",
    "true_avg = tf.Variable(const_val)\n",
    "\n",
    "alpha = tf.constant(0.05)\n",
    "curr_value = tf.placeholder(tf.float32, name=\"current_value\")\n",
    "prev_avg = tf.Variable(0.)\n",
    "update_avg = alpha * curr_value + (1 - alpha) * prev_avg\n",
    "curr_error = tf.abs(update_avg - true_avg)\n",
    "\n",
    "avg_hist = tf.summary.scalar(\"running average\", update_avg)\n",
    "value_hist = tf.summary.scalar(\"incoming values\", curr_value)\n",
    "error_hist = tf.summary.scalar(\"Error History\", curr_error)\n",
    "merged = tf.summary.merge_all()\n",
    "writer = tf.summary.FileWriter(\"./\"+\"default_tensorboard_logs\")\n",
    "\n",
    "init = tf.global_variables_initializer()\n",
    "with tf.Session() as sess:\n",
    "    sess.run(init)\n",
    "    #sess.add_graph(sess.graph)\n",
    "    for i in range(len(raw_data)):\n",
    "        summary_str, curr_avg, curr_err = sess.run([merged, update_avg, curr_error], feed_dict={curr_value: raw_data[i]})\n",
    "        sess.run(tf.assign(prev_avg, curr_avg))\n",
    "        print(raw_data[i], curr_avg, curr_err)\n",
    "        writer.add_summary(summary_str, i)\n",
    "    sess.close()\n",
    "~~~~        "
   ]
  },
  {
   "cell_type": "code",
   "execution_count": null,
   "metadata": {},
   "outputs": [],
   "source": []
  },
  {
   "cell_type": "code",
   "execution_count": null,
   "metadata": {},
   "outputs": [],
   "source": []
  },
  {
   "cell_type": "code",
   "execution_count": null,
   "metadata": {},
   "outputs": [],
   "source": []
  }
 ],
 "metadata": {
  "kernelspec": {
   "display_name": "Python 3",
   "language": "python",
   "name": "python3"
  },
  "language_info": {
   "codemirror_mode": {
    "name": "ipython",
    "version": 3
   },
   "file_extension": ".py",
   "mimetype": "text/x-python",
   "name": "python",
   "nbconvert_exporter": "python",
   "pygments_lexer": "ipython3",
   "version": "3.6.4"
  }
 },
 "nbformat": 4,
 "nbformat_minor": 2
}
