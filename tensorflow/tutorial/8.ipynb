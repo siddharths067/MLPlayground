{
 "cells": [
  {
   "cell_type": "markdown",
   "metadata": {},
   "source": [
    "# Initialization Of Tensorboard and Removal of Old Logs\n",
    "Kills all the tensorboard instances running on the system and then removes the log directory.\n",
    "Starts a new instance of tensorboard with the default log directory\n",
    "\n",
    "# Some Minor Points\n",
    "    * Reset Default Tensorflow graph so that your cells don't clash before every computation "
   ]
  },
  {
   "cell_type": "code",
   "execution_count": 1,
   "metadata": {},
   "outputs": [],
   "source": [
    "default_tensorboard_logdir = \"default_tensorboard_logs\""
   ]
  },
  {
   "cell_type": "code",
   "execution_count": 2,
   "metadata": {},
   "outputs": [
    {
     "name": "stdout",
     "output_type": "stream",
     "text": [
      "SUCCESS: The process \"tensorboard.exe\" with PID 13228 has been terminated.\n"
     ]
    },
    {
     "name": "stderr",
     "output_type": "stream",
     "text": [
      "rm: cannot remove 'default_tensorboard_logs': No such file or directory\n"
     ]
    },
    {
     "data": {
      "text/plain": [
       "0"
      ]
     },
     "execution_count": 2,
     "metadata": {},
     "output_type": "execute_result"
    }
   ],
   "source": [
    "import os\n",
    "!taskkill /IM tensorboard.exe /F\n",
    "!rm {default_tensorboard_logdir} -r\n",
    "os.system(\"start tensorboard --logdir=./\"+default_tensorboard_logdir+\" --host localhost --port 8088 &\")"
   ]
  },
  {
   "cell_type": "markdown",
   "metadata": {},
   "source": [
    "# Start Your Notebook Here"
   ]
  },
  {
   "cell_type": "markdown",
   "metadata": {},
   "source": [
    "#### Example Snippet to get you Started - Running Average\n",
    "~~~~\n",
    "import tensorflow as tf \n",
    "import numpy as np \n",
    "\n",
    "\n",
    "\n",
    "tf.reset_default_graph()\n",
    "\n",
    "raw_data = np.random.normal(10, 1, 100)\n",
    "const_val = np.mean(raw_data, dtype=np.float32)\n",
    "true_avg = tf.Variable(const_val)\n",
    "\n",
    "alpha = tf.constant(0.05)\n",
    "curr_value = tf.placeholder(tf.float32, name=\"current_value\")\n",
    "prev_avg = tf.Variable(0.)\n",
    "update_avg = alpha * curr_value + (1 - alpha) * prev_avg\n",
    "curr_error = tf.abs(update_avg - true_avg)\n",
    "\n",
    "avg_hist = tf.summary.scalar(\"running average\", update_avg)\n",
    "value_hist = tf.summary.scalar(\"incoming values\", curr_value)\n",
    "error_hist = tf.summary.scalar(\"Error History\", curr_error)\n",
    "merged = tf.summary.merge_all()\n",
    "writer = tf.summary.FileWriter(\"./\"+\"default_tensorboard_logs\")\n",
    "\n",
    "init = tf.global_variables_initializer()\n",
    "with tf.Session() as sess:\n",
    "    sess.run(init)\n",
    "    #sess.add_graph(sess.graph)\n",
    "    for i in range(len(raw_data)):\n",
    "        summary_str, curr_avg, curr_err = sess.run([merged, update_avg, curr_error], feed_dict={curr_value: raw_data[i]})\n",
    "        sess.run(tf.assign(prev_avg, curr_avg))\n",
    "        print(raw_data[i], curr_avg, curr_err)\n",
    "        writer.add_summary(summary_str, i)\n",
    "    sess.close()\n",
    "~~~~        "
   ]
  },
  {
   "cell_type": "markdown",
   "metadata": {},
   "source": [
    "# Linear Regression Chapter"
   ]
  },
  {
   "cell_type": "markdown",
   "metadata": {},
   "source": [
    "## Simple Linear Regression"
   ]
  },
  {
   "cell_type": "code",
   "execution_count": 3,
   "metadata": {},
   "outputs": [
    {
     "name": "stderr",
     "output_type": "stream",
     "text": [
      "F:\\ProgramData\\Anaconda3\\lib\\site-packages\\h5py\\__init__.py:36: FutureWarning: Conversion of the second argument of issubdtype from `float` to `np.floating` is deprecated. In future, it will be treated as `np.float64 == np.dtype(float).type`.\n",
      "  from ._conv import register_converters as _register_converters\n"
     ]
    }
   ],
   "source": [
    "import tensorflow as tf\n",
    "import numpy as np\n",
    "import matplotlib.pyplot as plt"
   ]
  },
  {
   "cell_type": "code",
   "execution_count": 4,
   "metadata": {},
   "outputs": [],
   "source": [
    "tf.reset_default_graph()\n",
    "learning_rate = 0.01\n",
    "training_epochs = 100"
   ]
  },
  {
   "cell_type": "code",
   "execution_count": 5,
   "metadata": {},
   "outputs": [],
   "source": [
    "x_train = np.linspace(-1, 1, 101)\n",
    "y_train = 2 * x_train + np.random.randn(*x_train.shape) * 0.33"
   ]
  },
  {
   "cell_type": "code",
   "execution_count": 6,
   "metadata": {},
   "outputs": [],
   "source": [
    "X = tf.placeholder(tf.float32)\n",
    "Y = tf.placeholder(tf.float32)"
   ]
  },
  {
   "cell_type": "code",
   "execution_count": 7,
   "metadata": {},
   "outputs": [
    {
     "data": {
      "image/png": "[encoded data removed]",
      "text/plain": [
       "<matplotlib.figure.Figure at 0x167afa7a6d8>"
      ]
     },
     "metadata": {
      "needs_background": "light"
     },
     "output_type": "display_data"
    }
   ],
   "source": [
    "def model(X, w):\n",
    "    return tf.multiply(X, w)\n",
    "\n",
    "w = tf.Variable(0.0, name=\"weights\")\n",
    "\n",
    "y_model = model(X, w)\n",
    "cost = tf.square(Y - y_model)\n",
    "\n",
    "train_op = tf.train.GradientDescentOptimizer(learning_rate).minimize(cost)\n",
    "init = tf.global_variables_initializer()\n",
    "\n",
    "with tf.Session() as sess:\n",
    "    sess.run(init)\n",
    "    for epoch in range(training_epochs):\n",
    "        for (x,y) in zip(x_train, y_train):\n",
    "            sess.run(train_op, feed_dict={X:x, Y:y})\n",
    "    w_val = sess.run(w)\n",
    "    sess.close()\n",
    "    \n",
    "    plt.scatter(x_train, y_train)\n",
    "    y_learned = x_train * w_val\n",
    "    plt.plot(x_train, y_learned,'r')\n",
    "    plt.show()\n",
    "    sess.close()"
   ]
  },
  {
   "cell_type": "markdown",
   "metadata": {},
   "source": [
    "## Polynomial Model"
   ]
  },
  {
   "cell_type": "code",
   "execution_count": 8,
   "metadata": {},
   "outputs": [
    {
     "data": {
      "image/png": "[encoded data removed]",
      "text/plain": [
       "<matplotlib.figure.Figure at 0x167afa6fef0>"
      ]
     },
     "metadata": {
      "needs_background": "light"
     },
     "output_type": "display_data"
    }
   ],
   "source": [
    "tf.reset_default_graph()\n",
    "learning_rate = 0.01\n",
    "training_epochs = 40\n",
    "\n",
    "X_train = np.linspace(-1, 1, 101)\n",
    "coeffs = [1, 2, 3, 4, 5, 6]\n",
    "num_coeffs = 6\n",
    "y_train = 0\n",
    "for i in range(num_coeffs):\n",
    "    y_train += coeffs[i] * np.power(X_train, i)\n",
    "\n",
    "y_train += np.random.randn(*X_train.shape) * 1.5\n",
    "\n",
    "plt.scatter(X_train, y_train)\n",
    "plt.show()"
   ]
  },
  {
   "cell_type": "code",
   "execution_count": 9,
   "metadata": {},
   "outputs": [],
   "source": [
    "X = tf.placeholder(tf.float32)\n",
    "Y = tf.placeholder(tf.float32)\n",
    "\n",
    "def model(X, w):\n",
    "    terms = []\n",
    "    for i in range(num_coeffs):\n",
    "        term = tf.multiply(w[i], tf.pow(X, i))\n",
    "        terms.append(term)\n",
    "    return tf.add_n(terms)"
   ]
  },
  {
   "cell_type": "code",
   "execution_count": 10,
   "metadata": {},
   "outputs": [],
   "source": [
    "w = tf.Variable([0.] * num_coeffs, name=\"parameters\")\n",
    "y_model = model(X, w)\n",
    "cost = tf.pow(Y - y_model, 2)\n",
    "train_op = tf.train.GradientDescentOptimizer(learning_rate).minimize(cost)"
   ]
  },
  {
   "cell_type": "code",
   "execution_count": 11,
   "metadata": {},
   "outputs": [
    {
     "name": "stdout",
     "output_type": "stream",
     "text": [
      "[1.1136284 1.5677352 3.8164177 5.2423115 3.0123858 5.7923293]\n"
     ]
    },
    {
     "data": {
      "image/png": "[encoded data removed]",
      "text/plain": [
       "<matplotlib.figure.Figure at 0x167af95d780>"
      ]
     },
     "metadata": {
      "needs_background": "light"
     },
     "output_type": "display_data"
    }
   ],
   "source": [
    "with tf.Session() as sess:\n",
    "    sess.run(tf.global_variables_initializer())\n",
    "    for epoch in range(training_epochs):\n",
    "        for (x,y) in zip(X_train, y_train):\n",
    "            sess.run(train_op, feed_dict={X:x, Y:y})\n",
    "    w_val = sess.run(w)\n",
    "    print(w_val)\n",
    "    sess.close()\n",
    "    plt.scatter(X_train, y_train)\n",
    "    output = 0\n",
    "    for i in range(num_coeffs):\n",
    "        output += w_val[i] * np.power(X_train, i)\n",
    "    plt.plot(X_train, output, 'r')\n",
    "    plt.show()"
   ]
  },
  {
   "cell_type": "markdown",
   "metadata": {},
   "source": [
    "## Polynomial Regression with Regularization"
   ]
  },
  {
   "cell_type": "code",
   "execution_count": 24,
   "metadata": {},
   "outputs": [],
   "source": [
    "from sklearn.model_selection import train_test_split\n",
    "\n",
    "learning_rate = 0.001\n",
    "training_epochs = 2000\n",
    "reg_lambda = 0.05\n",
    "\n",
    "X_dataset = np.linspace(-1, 1, 1000)\n",
    "num_coeffs = 12\n",
    "y_dataset_params = [0.] * num_coeffs\n",
    "y_dataset_params[2] = 1\n",
    "y_dataset = 0\n",
    "for i in range(num_coeffs):\n",
    "    y_dataset += y_dataset_params[i] * np.power(X_dataset, i)\n",
    "y_dataset += np.random.randn(*X_dataset.shape) * 0.3\n",
    "\n",
    "X_train, X_test, y_train, y_test = train_test_split(X_dataset, y_dataset, test_size=0.3)"
   ]
  },
  {
   "cell_type": "code",
   "execution_count": 25,
   "metadata": {},
   "outputs": [
    {
     "name": "stdout",
     "output_type": "stream",
     "text": [
      "reg_lambda:  0.05\n",
      "final cost:  0.14886725\n"
     ]
    },
    {
     "data": {
      "image/png": "[encoded data removed]",
      "text/plain": [
       "<matplotlib.figure.Figure at 0x168732716a0>"
      ]
     },
     "metadata": {
      "needs_background": "light"
     },
     "output_type": "display_data"
    }
   ],
   "source": [
    "def model(X, w):\n",
    "    terms = []\n",
    "    for i in range(num_coeffs):\n",
    "        term = tf.multiply(w[i], tf.pow(X, i))\n",
    "        terms.append(term)\n",
    "    return tf.add_n(terms)\n",
    "w = tf.Variable([0.] * num_coeffs, name=\"parameters\")\n",
    "y_model = model(X, w)\n",
    "cost = tf.div(tf.add(tf.reduce_sum(tf.square(Y-y_model)),\n",
    " tf.multiply(reg_lambda, tf.reduce_sum(tf.square(w)))),\n",
    " 2*x_train.size)\n",
    "\n",
    "train_op = tf.train.GradientDescentOptimizer(learning_rate).minimize(cost)\n",
    "\n",
    "with tf.Session() as sess:\n",
    "    sess.run(tf.global_variables_initializer())\n",
    "    for i in range(training_epochs):\n",
    "        sess.run(train_op, feed_dict={X:X_train, Y:y_train})\n",
    "    final_cost = sess.run(cost, feed_dict={X:X_test, Y:y_test})\n",
    "    w_val = sess.run(w)\n",
    "    print(\"reg_lambda: \", reg_lambda)\n",
    "    print(\"final cost: \", final_cost)\n",
    "    sess.close()\n",
    "    plt.scatter(X_dataset, y_dataset, c=\"b\")\n",
    "    output = 0\n",
    "    for i in range(num_coeffs):\n",
    "        output += w_val[i] * np.power(X_dataset, i)\n",
    "    plt.plot(X_dataset, output, 'r')\n",
    "    plt.show()"
   ]
  },
  {
   "cell_type": "code",
   "execution_count": null,
   "metadata": {},
   "outputs": [],
   "source": []
  },
  {
   "cell_type": "code",
   "execution_count": null,
   "metadata": {},
   "outputs": [],
   "source": []
  },
  {
   "cell_type": "code",
   "execution_count": null,
   "metadata": {},
   "outputs": [],
   "source": []
  }
 ],
 "metadata": {
  "kernelspec": {
   "display_name": "Python 3",
   "language": "python",
   "name": "python3"
  },
  "language_info": {
   "codemirror_mode": {
    "name": "ipython",
    "version": 3
   },
   "file_extension": ".py",
   "mimetype": "text/x-python",
   "name": "python",
   "nbconvert_exporter": "python",
   "pygments_lexer": "ipython3",
   "version": "3.6.4"
  }
 },
 "nbformat": 4,
 "nbformat_minor": 2
}
